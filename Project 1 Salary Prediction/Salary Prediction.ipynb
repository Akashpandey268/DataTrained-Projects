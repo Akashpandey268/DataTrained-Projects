{
 "cells": [
  {
   "cell_type": "code",
   "execution_count": 664,
   "id": "651ab945",
   "metadata": {},
   "outputs": [],
   "source": [
    "# importing essential libraries\n",
    "import pandas as pd\n",
    "import numpy as np\n",
    "import seaborn as sns\n",
    "import matplotlib.pyplot as plt\n",
    "import warnings\n",
    "warnings.filterwarnings('ignore')"
   ]
  },
  {
   "cell_type": "code",
   "execution_count": 665,
   "id": "6781d539",
   "metadata": {},
   "outputs": [
    {
     "data": {
      "text/html": [
       "<div>\n",
       "<style scoped>\n",
       "    .dataframe tbody tr th:only-of-type {\n",
       "        vertical-align: middle;\n",
       "    }\n",
       "\n",
       "    .dataframe tbody tr th {\n",
       "        vertical-align: top;\n",
       "    }\n",
       "\n",
       "    .dataframe thead th {\n",
       "        text-align: right;\n",
       "    }\n",
       "</style>\n",
       "<table border=\"1\" class=\"dataframe\">\n",
       "  <thead>\n",
       "    <tr style=\"text-align: right;\">\n",
       "      <th></th>\n",
       "      <th>rank</th>\n",
       "      <th>discipline</th>\n",
       "      <th>yrs.since.phd</th>\n",
       "      <th>yrs.service</th>\n",
       "      <th>sex</th>\n",
       "      <th>salary</th>\n",
       "    </tr>\n",
       "  </thead>\n",
       "  <tbody>\n",
       "    <tr>\n",
       "      <th>0</th>\n",
       "      <td>Prof</td>\n",
       "      <td>B</td>\n",
       "      <td>19</td>\n",
       "      <td>18</td>\n",
       "      <td>Male</td>\n",
       "      <td>139750</td>\n",
       "    </tr>\n",
       "    <tr>\n",
       "      <th>1</th>\n",
       "      <td>Prof</td>\n",
       "      <td>B</td>\n",
       "      <td>20</td>\n",
       "      <td>16</td>\n",
       "      <td>Male</td>\n",
       "      <td>173200</td>\n",
       "    </tr>\n",
       "    <tr>\n",
       "      <th>2</th>\n",
       "      <td>AsstProf</td>\n",
       "      <td>B</td>\n",
       "      <td>4</td>\n",
       "      <td>3</td>\n",
       "      <td>Male</td>\n",
       "      <td>79750</td>\n",
       "    </tr>\n",
       "    <tr>\n",
       "      <th>3</th>\n",
       "      <td>Prof</td>\n",
       "      <td>B</td>\n",
       "      <td>45</td>\n",
       "      <td>39</td>\n",
       "      <td>Male</td>\n",
       "      <td>115000</td>\n",
       "    </tr>\n",
       "    <tr>\n",
       "      <th>4</th>\n",
       "      <td>Prof</td>\n",
       "      <td>B</td>\n",
       "      <td>40</td>\n",
       "      <td>41</td>\n",
       "      <td>Male</td>\n",
       "      <td>141500</td>\n",
       "    </tr>\n",
       "  </tbody>\n",
       "</table>\n",
       "</div>"
      ],
      "text/plain": [
       "       rank discipline  yrs.since.phd  yrs.service   sex  salary\n",
       "0      Prof          B             19           18  Male  139750\n",
       "1      Prof          B             20           16  Male  173200\n",
       "2  AsstProf          B              4            3  Male   79750\n",
       "3      Prof          B             45           39  Male  115000\n",
       "4      Prof          B             40           41  Male  141500"
      ]
     },
     "execution_count": 665,
     "metadata": {},
     "output_type": "execute_result"
    }
   ],
   "source": [
    "# Loading the dataset\n",
    "df=pd.read_csv(\"Salaries.csv\")\n",
    "df.head()"
   ]
  },
  {
   "cell_type": "markdown",
   "id": "c039a294",
   "metadata": {},
   "source": [
    "## Exploring and Cleaning the dataset"
   ]
  },
  {
   "cell_type": "code",
   "execution_count": 666,
   "id": "0c3334c6",
   "metadata": {},
   "outputs": [
    {
     "data": {
      "text/plain": [
       "(397, 6)"
      ]
     },
     "execution_count": 666,
     "metadata": {},
     "output_type": "execute_result"
    }
   ],
   "source": [
    "# Returns number of rows and columns of the dataset\n",
    "df.shape"
   ]
  },
  {
   "cell_type": "code",
   "execution_count": 667,
   "id": "5dc4815e",
   "metadata": {},
   "outputs": [
    {
     "data": {
      "text/plain": [
       "Index(['rank', 'discipline', 'yrs.since.phd', 'yrs.service', 'sex', 'salary'], dtype='object')"
      ]
     },
     "execution_count": 667,
     "metadata": {},
     "output_type": "execute_result"
    }
   ],
   "source": [
    "# Returs an object with all columns as headers\n",
    "df.columns"
   ]
  },
  {
   "cell_type": "code",
   "execution_count": 668,
   "id": "7c1dc5e1",
   "metadata": {},
   "outputs": [
    {
     "data": {
      "text/plain": [
       "rank             object\n",
       "discipline       object\n",
       "yrs.since.phd     int64\n",
       "yrs.service       int64\n",
       "sex              object\n",
       "salary            int64\n",
       "dtype: object"
      ]
     },
     "execution_count": 668,
     "metadata": {},
     "output_type": "execute_result"
    }
   ],
   "source": [
    "# Returns different datatypes for each columns\n",
    "df.dtypes"
   ]
  },
  {
   "cell_type": "code",
   "execution_count": 669,
   "id": "fea2e187",
   "metadata": {},
   "outputs": [
    {
     "name": "stdout",
     "output_type": "stream",
     "text": [
      "<class 'pandas.core.frame.DataFrame'>\n",
      "RangeIndex: 397 entries, 0 to 396\n",
      "Data columns (total 6 columns):\n",
      " #   Column         Non-Null Count  Dtype \n",
      "---  ------         --------------  ----- \n",
      " 0   rank           397 non-null    object\n",
      " 1   discipline     397 non-null    object\n",
      " 2   yrs.since.phd  397 non-null    int64 \n",
      " 3   yrs.service    397 non-null    int64 \n",
      " 4   sex            397 non-null    object\n",
      " 5   salary         397 non-null    int64 \n",
      "dtypes: int64(3), object(3)\n",
      "memory usage: 18.7+ KB\n"
     ]
    }
   ],
   "source": [
    "# Returns basic information of all columns\n",
    "df.info()"
   ]
  },
  {
   "cell_type": "code",
   "execution_count": 670,
   "id": "195c7ea2",
   "metadata": {},
   "outputs": [
    {
     "data": {
      "text/html": [
       "<div>\n",
       "<style scoped>\n",
       "    .dataframe tbody tr th:only-of-type {\n",
       "        vertical-align: middle;\n",
       "    }\n",
       "\n",
       "    .dataframe tbody tr th {\n",
       "        vertical-align: top;\n",
       "    }\n",
       "\n",
       "    .dataframe thead th {\n",
       "        text-align: right;\n",
       "    }\n",
       "</style>\n",
       "<table border=\"1\" class=\"dataframe\">\n",
       "  <thead>\n",
       "    <tr style=\"text-align: right;\">\n",
       "      <th></th>\n",
       "      <th>count</th>\n",
       "      <th>mean</th>\n",
       "      <th>std</th>\n",
       "      <th>min</th>\n",
       "      <th>25%</th>\n",
       "      <th>50%</th>\n",
       "      <th>75%</th>\n",
       "      <th>max</th>\n",
       "    </tr>\n",
       "  </thead>\n",
       "  <tbody>\n",
       "    <tr>\n",
       "      <th>yrs.since.phd</th>\n",
       "      <td>397.0</td>\n",
       "      <td>22.314861</td>\n",
       "      <td>12.887003</td>\n",
       "      <td>1.0</td>\n",
       "      <td>12.0</td>\n",
       "      <td>21.0</td>\n",
       "      <td>32.0</td>\n",
       "      <td>56.0</td>\n",
       "    </tr>\n",
       "    <tr>\n",
       "      <th>yrs.service</th>\n",
       "      <td>397.0</td>\n",
       "      <td>17.614610</td>\n",
       "      <td>13.006024</td>\n",
       "      <td>0.0</td>\n",
       "      <td>7.0</td>\n",
       "      <td>16.0</td>\n",
       "      <td>27.0</td>\n",
       "      <td>60.0</td>\n",
       "    </tr>\n",
       "    <tr>\n",
       "      <th>salary</th>\n",
       "      <td>397.0</td>\n",
       "      <td>113706.458438</td>\n",
       "      <td>30289.038695</td>\n",
       "      <td>57800.0</td>\n",
       "      <td>91000.0</td>\n",
       "      <td>107300.0</td>\n",
       "      <td>134185.0</td>\n",
       "      <td>231545.0</td>\n",
       "    </tr>\n",
       "  </tbody>\n",
       "</table>\n",
       "</div>"
      ],
      "text/plain": [
       "               count           mean           std      min      25%       50%  \\\n",
       "yrs.since.phd  397.0      22.314861     12.887003      1.0     12.0      21.0   \n",
       "yrs.service    397.0      17.614610     13.006024      0.0      7.0      16.0   \n",
       "salary         397.0  113706.458438  30289.038695  57800.0  91000.0  107300.0   \n",
       "\n",
       "                    75%       max  \n",
       "yrs.since.phd      32.0      56.0  \n",
       "yrs.service        27.0      60.0  \n",
       "salary         134185.0  231545.0  "
      ]
     },
     "execution_count": 670,
     "metadata": {},
     "output_type": "execute_result"
    }
   ],
   "source": [
    "# Returns basic statistics on numeric columns\n",
    "df.describe().T"
   ]
  },
  {
   "cell_type": "code",
   "execution_count": 671,
   "id": "348c56bd",
   "metadata": {},
   "outputs": [
    {
     "data": {
      "text/plain": [
       "rank             False\n",
       "discipline       False\n",
       "yrs.since.phd    False\n",
       "yrs.service      False\n",
       "sex              False\n",
       "salary           False\n",
       "dtype: bool"
      ]
     },
     "execution_count": 671,
     "metadata": {},
     "output_type": "execute_result"
    }
   ],
   "source": [
    "# Returns if there is any null value\n",
    "df.isnull().any()"
   ]
  },
  {
   "cell_type": "code",
   "execution_count": 672,
   "id": "6283e9a6",
   "metadata": {},
   "outputs": [
    {
     "data": {
      "text/plain": [
       "{'whiskers': [<matplotlib.lines.Line2D at 0x1c0a7fb1e50>,\n",
       "  <matplotlib.lines.Line2D at 0x1c0a7fbf160>],\n",
       " 'caps': [<matplotlib.lines.Line2D at 0x1c0a7fbf430>,\n",
       "  <matplotlib.lines.Line2D at 0x1c0a7fbf700>],\n",
       " 'boxes': [<matplotlib.lines.Line2D at 0x1c0a7fb1b80>],\n",
       " 'medians': [<matplotlib.lines.Line2D at 0x1c0a7fbf940>],\n",
       " 'fliers': [<matplotlib.lines.Line2D at 0x1c0a7fbfc10>],\n",
       " 'means': []}"
      ]
     },
     "execution_count": 672,
     "metadata": {},
     "output_type": "execute_result"
    },
    {
     "data": {
      "image/png": "[encoded data removed]",
      "text/plain": [
       "<Figure size 432x288 with 1 Axes>"
      ]
     },
     "metadata": {
      "needs_background": "light"
     },
     "output_type": "display_data"
    }
   ],
   "source": [
    "plt.boxplot(\"salary\",data=df)"
   ]
  },
  {
   "cell_type": "code",
   "execution_count": 673,
   "id": "44bcd690",
   "metadata": {},
   "outputs": [],
   "source": [
    "### We have outliers in the salary data so we should first remove it"
   ]
  },
  {
   "cell_type": "code",
   "execution_count": 674,
   "id": "4d7c8420",
   "metadata": {},
   "outputs": [],
   "source": [
    "df=df[df.salary<200000 ]"
   ]
  },
  {
   "cell_type": "code",
   "execution_count": 675,
   "id": "9832b006",
   "metadata": {},
   "outputs": [
    {
     "data": {
      "text/plain": [
       "{'whiskers': [<matplotlib.lines.Line2D at 0x1c0a801cd90>,\n",
       "  <matplotlib.lines.Line2D at 0x1c0a802a0a0>],\n",
       " 'caps': [<matplotlib.lines.Line2D at 0x1c0a802a370>,\n",
       "  <matplotlib.lines.Line2D at 0x1c0a802a640>],\n",
       " 'boxes': [<matplotlib.lines.Line2D at 0x1c0a801cac0>],\n",
       " 'medians': [<matplotlib.lines.Line2D at 0x1c0a802a910>],\n",
       " 'fliers': [<matplotlib.lines.Line2D at 0x1c0a802abe0>],\n",
       " 'means': []}"
      ]
     },
     "execution_count": 675,
     "metadata": {},
     "output_type": "execute_result"
    },
    {
     "data": {
      "image/png": "[encoded data removed]",
      "text/plain": [
       "<Figure size 432x288 with 1 Axes>"
      ]
     },
     "metadata": {
      "needs_background": "light"
     },
     "output_type": "display_data"
    }
   ],
   "source": [
    "plt.boxplot(\"salary\",data=df)"
   ]
  },
  {
   "cell_type": "code",
   "execution_count": 676,
   "id": "dfca195e",
   "metadata": {},
   "outputs": [
    {
     "data": {
      "text/plain": [
       "<AxesSubplot:xlabel='salary', ylabel='Density'>"
      ]
     },
     "execution_count": 676,
     "metadata": {},
     "output_type": "execute_result"
    },
    {
     "data": {
      "image/png": "[encoded data removed]",
      "text/plain": [
       "<Figure size 432x288 with 1 Axes>"
      ]
     },
     "metadata": {
      "needs_background": "light"
     },
     "output_type": "display_data"
    }
   ],
   "source": [
    "sns.distplot(df.salary)"
   ]
  },
  {
   "cell_type": "code",
   "execution_count": 677,
   "id": "a69ef9e7",
   "metadata": {},
   "outputs": [
    {
     "data": {
      "text/plain": [
       "<AxesSubplot:xlabel='rank', ylabel='salary'>"
      ]
     },
     "execution_count": 677,
     "metadata": {},
     "output_type": "execute_result"
    },
    {
     "data": {
      "image/png": "[encoded data removed]",
      "text/plain": [
       "<Figure size 432x288 with 1 Axes>"
      ]
     },
     "metadata": {
      "needs_background": "light"
     },
     "output_type": "display_data"
    }
   ],
   "source": [
    "sns.barplot(\"rank\",\"salary\",data=df)"
   ]
  },
  {
   "cell_type": "code",
   "execution_count": 678,
   "id": "6d7f7fa0",
   "metadata": {},
   "outputs": [
    {
     "data": {
      "text/plain": [
       "<AxesSubplot:xlabel='sex', ylabel='salary'>"
      ]
     },
     "execution_count": 678,
     "metadata": {},
     "output_type": "execute_result"
    },
    {
     "data": {
      "image/png": "[encoded data removed]",
      "text/plain": [
       "<Figure size 432x288 with 1 Axes>"
      ]
     },
     "metadata": {
      "needs_background": "light"
     },
     "output_type": "display_data"
    }
   ],
   "source": [
    "sns.barplot(\"sex\",\"salary\",data=df,hue=\"rank\")"
   ]
  },
  {
   "cell_type": "code",
   "execution_count": 679,
   "id": "61ed8f78",
   "metadata": {},
   "outputs": [
    {
     "data": {
      "text/plain": [
       "<AxesSubplot:xlabel='discipline', ylabel='salary'>"
      ]
     },
     "execution_count": 679,
     "metadata": {},
     "output_type": "execute_result"
    },
    {
     "data": {
      "image/png": "[encoded data removed]",
      "text/plain": [
       "<Figure size 432x288 with 1 Axes>"
      ]
     },
     "metadata": {
      "needs_background": "light"
     },
     "output_type": "display_data"
    }
   ],
   "source": [
    "sns.barplot(\"discipline\",\"salary\",data=df,hue=\"rank\")"
   ]
  },
  {
   "cell_type": "markdown",
   "id": "7d24fdd6",
   "metadata": {},
   "source": [
    "## EDA"
   ]
  },
  {
   "cell_type": "code",
   "execution_count": 680,
   "id": "3dde6d55",
   "metadata": {},
   "outputs": [
    {
     "data": {
      "text/plain": [
       "array([139750, 173200,  79750, 115000, 141500,  97000, 175000, 147765,\n",
       "       119250, 129000, 119800,  79800,  77700,  78000, 104800, 117150,\n",
       "       101000, 103450, 124750, 137000,  89565, 102580,  93904, 113068,\n",
       "        74830, 106294, 134885,  82379,  77000, 118223, 132261,  79916,\n",
       "       117256,  80225, 155750,  86373, 125196, 100938, 146500,  93418,\n",
       "       101299,  94384, 114778,  98193, 151768, 140096,  70768, 126621,\n",
       "       108875,  74692, 106639, 103760,  83900, 117704,  90215, 100135,\n",
       "        75044,  90304,  75243, 109785, 103613,  68404, 100522,  99418,\n",
       "       111512,  91412, 126320, 146856, 100131,  92391, 113398,  73266,\n",
       "       150480, 193000,  86100,  84240, 150743, 135585, 144640,  88825,\n",
       "       122960, 132825, 152708,  88400, 172272, 107008,  97032, 105128,\n",
       "       105631, 166024, 123683,  84000,  95611, 129676, 102235, 106689,\n",
       "       133217, 126933, 153303, 127512,  83850, 113543,  82099,  82600,\n",
       "        81500, 131205, 112429,  82100,  72500, 104279, 105000, 120806,\n",
       "       148500, 117515,  73500, 115313, 124309,  97262,  62884,  96614,\n",
       "        78162, 155500, 113278,  73000,  83001,  76840,  77500, 168635,\n",
       "       136000, 108262, 105668,  73877, 152664, 100102, 106608,  89942,\n",
       "       112696, 119015,  92000, 156938, 144651,  95079, 128148, 111168,\n",
       "       103994, 118971, 113341,  88000,  95408, 137167,  89516, 176500,\n",
       "        98510,  88795, 105890, 167284, 130664, 101210, 181257,  91227,\n",
       "       151575,  93164, 134185, 111751,  95436, 100944, 147349, 142467,\n",
       "       141136, 100000, 150000, 134000, 103750, 107500, 106300, 153750,\n",
       "       180000, 133700, 122100,  86250,  90000, 113600,  92700, 189409,\n",
       "       114500, 119700, 160400, 152500, 165000,  96545, 162200, 120000,\n",
       "        91300, 163200,  91000, 111350, 128400, 126200, 118700, 145350,\n",
       "       146000, 105350, 109650, 119500, 170000, 145200, 107150, 129600,\n",
       "        87800, 122400,  63900,  70000,  88175, 133900,  73300, 148750,\n",
       "       117555,  69700,  81700, 114000,  63100,  77202,  96200,  69200,\n",
       "       122875, 102600, 108200,  84273,  90450,  91100, 101100, 128800,\n",
       "       109000, 102000, 132000, 116450,  83000, 140300,  74000,  73800,\n",
       "        92550,  88600, 107550, 121200, 126000,  99000, 134800, 143940,\n",
       "       104350,  89650, 103700, 143250, 194800,  78500,  93000, 107200,\n",
       "       107100, 100600, 136500, 103600,  57800, 155865,  88650,  81800,\n",
       "       115800,  85000, 150500, 174500, 168500, 183800, 107300,  97150,\n",
       "       126300, 148800,  72300,  70700, 127100, 170500, 105260, 144050,\n",
       "        74500, 122500, 166800,  92050, 108100,  94350, 100351, 146800,\n",
       "        84716,  71065,  67559, 134550, 135027, 104428,  95642, 126431,\n",
       "       161101, 162221,  84500, 124714, 151650,  99247, 134778, 192253,\n",
       "       116518, 105450, 145098, 104542, 151445,  98053, 145000, 128464,\n",
       "       137317, 106231, 124312, 114596, 162150, 150376, 107986, 142023,\n",
       "       128250,  80139, 144309, 186960,  93519, 142500, 138000,  83600,\n",
       "       145028,  88709, 107309, 109954,  78785, 121946, 109646, 138771,\n",
       "        81285, 101036, 115435, 108413, 131950, 134690,  78182, 110515,\n",
       "       109707, 136660, 103275, 103649,  74856,  77081, 150680, 104121,\n",
       "        75996, 172505,  86895, 125192, 114330, 139219, 109305, 119450,\n",
       "       186023, 166605, 151292, 103106, 150564, 101738,  95329,  81035],\n",
       "      dtype=int64)"
      ]
     },
     "execution_count": 680,
     "metadata": {},
     "output_type": "execute_result"
    }
   ],
   "source": [
    "# Lets find any inconsistency in the salary column\n",
    "df.salary.unique()"
   ]
  },
  {
   "cell_type": "markdown",
   "id": "9c1871d2",
   "metadata": {},
   "source": [
    "there is nothing inconsistent in the data so we can leave it."
   ]
  },
  {
   "cell_type": "code",
   "execution_count": 681,
   "id": "65872069",
   "metadata": {},
   "outputs": [
    {
     "data": {
      "text/html": [
       "<div>\n",
       "<style scoped>\n",
       "    .dataframe tbody tr th:only-of-type {\n",
       "        vertical-align: middle;\n",
       "    }\n",
       "\n",
       "    .dataframe tbody tr th {\n",
       "        vertical-align: top;\n",
       "    }\n",
       "\n",
       "    .dataframe thead th {\n",
       "        text-align: right;\n",
       "    }\n",
       "</style>\n",
       "<table border=\"1\" class=\"dataframe\">\n",
       "  <thead>\n",
       "    <tr style=\"text-align: right;\">\n",
       "      <th></th>\n",
       "      <th>rank</th>\n",
       "      <th>discipline</th>\n",
       "      <th>yrs.since.phd</th>\n",
       "      <th>yrs.service</th>\n",
       "      <th>sex</th>\n",
       "      <th>salary</th>\n",
       "    </tr>\n",
       "  </thead>\n",
       "  <tbody>\n",
       "    <tr>\n",
       "      <th>0</th>\n",
       "      <td>Prof</td>\n",
       "      <td>B</td>\n",
       "      <td>19</td>\n",
       "      <td>18</td>\n",
       "      <td>Male</td>\n",
       "      <td>139750</td>\n",
       "    </tr>\n",
       "    <tr>\n",
       "      <th>1</th>\n",
       "      <td>Prof</td>\n",
       "      <td>B</td>\n",
       "      <td>20</td>\n",
       "      <td>16</td>\n",
       "      <td>Male</td>\n",
       "      <td>173200</td>\n",
       "    </tr>\n",
       "    <tr>\n",
       "      <th>2</th>\n",
       "      <td>AsstProf</td>\n",
       "      <td>B</td>\n",
       "      <td>4</td>\n",
       "      <td>3</td>\n",
       "      <td>Male</td>\n",
       "      <td>79750</td>\n",
       "    </tr>\n",
       "    <tr>\n",
       "      <th>3</th>\n",
       "      <td>Prof</td>\n",
       "      <td>B</td>\n",
       "      <td>45</td>\n",
       "      <td>39</td>\n",
       "      <td>Male</td>\n",
       "      <td>115000</td>\n",
       "    </tr>\n",
       "    <tr>\n",
       "      <th>4</th>\n",
       "      <td>Prof</td>\n",
       "      <td>B</td>\n",
       "      <td>40</td>\n",
       "      <td>41</td>\n",
       "      <td>Male</td>\n",
       "      <td>141500</td>\n",
       "    </tr>\n",
       "  </tbody>\n",
       "</table>\n",
       "</div>"
      ],
      "text/plain": [
       "       rank discipline  yrs.since.phd  yrs.service   sex  salary\n",
       "0      Prof          B             19           18  Male  139750\n",
       "1      Prof          B             20           16  Male  173200\n",
       "2  AsstProf          B              4            3  Male   79750\n",
       "3      Prof          B             45           39  Male  115000\n",
       "4      Prof          B             40           41  Male  141500"
      ]
     },
     "execution_count": 681,
     "metadata": {},
     "output_type": "execute_result"
    }
   ],
   "source": [
    "df.head()"
   ]
  },
  {
   "cell_type": "code",
   "execution_count": 682,
   "id": "25661f45",
   "metadata": {},
   "outputs": [
    {
     "data": {
      "text/html": [
       "<div>\n",
       "<style scoped>\n",
       "    .dataframe tbody tr th:only-of-type {\n",
       "        vertical-align: middle;\n",
       "    }\n",
       "\n",
       "    .dataframe tbody tr th {\n",
       "        vertical-align: top;\n",
       "    }\n",
       "\n",
       "    .dataframe thead th {\n",
       "        text-align: right;\n",
       "    }\n",
       "</style>\n",
       "<table border=\"1\" class=\"dataframe\">\n",
       "  <thead>\n",
       "    <tr style=\"text-align: right;\">\n",
       "      <th></th>\n",
       "      <th>yrs.since.phd</th>\n",
       "      <th>yrs.service</th>\n",
       "      <th>salary</th>\n",
       "    </tr>\n",
       "  </thead>\n",
       "  <tbody>\n",
       "    <tr>\n",
       "      <th>yrs.since.phd</th>\n",
       "      <td>1.000000</td>\n",
       "      <td>0.910941</td>\n",
       "      <td>0.410775</td>\n",
       "    </tr>\n",
       "    <tr>\n",
       "      <th>yrs.service</th>\n",
       "      <td>0.910941</td>\n",
       "      <td>1.000000</td>\n",
       "      <td>0.327271</td>\n",
       "    </tr>\n",
       "    <tr>\n",
       "      <th>salary</th>\n",
       "      <td>0.410775</td>\n",
       "      <td>0.327271</td>\n",
       "      <td>1.000000</td>\n",
       "    </tr>\n",
       "  </tbody>\n",
       "</table>\n",
       "</div>"
      ],
      "text/plain": [
       "               yrs.since.phd  yrs.service    salary\n",
       "yrs.since.phd       1.000000     0.910941  0.410775\n",
       "yrs.service         0.910941     1.000000  0.327271\n",
       "salary              0.410775     0.327271  1.000000"
      ]
     },
     "execution_count": 682,
     "metadata": {},
     "output_type": "execute_result"
    }
   ],
   "source": [
    "## checking correlation between features of dataset\n",
    "df.corr()"
   ]
  },
  {
   "cell_type": "code",
   "execution_count": 683,
   "id": "d19fcdd6",
   "metadata": {},
   "outputs": [
    {
     "data": {
      "text/plain": [
       "<AxesSubplot:>"
      ]
     },
     "execution_count": 683,
     "metadata": {},
     "output_type": "execute_result"
    },
    {
     "data": {
      "image/png": "[encoded data removed]",
      "text/plain": [
       "<Figure size 432x288 with 2 Axes>"
      ]
     },
     "metadata": {
      "needs_background": "light"
     },
     "output_type": "display_data"
    }
   ],
   "source": [
    "sns.heatmap(df.corr())"
   ]
  },
  {
   "cell_type": "markdown",
   "id": "ffd0bdf7",
   "metadata": {},
   "source": [
    "#### Since there is very high correlation in between yrs.since.phd and yrs.service \n",
    "#### So we should drop one column \n",
    "#### lets drop yrs.since.phd"
   ]
  },
  {
   "cell_type": "code",
   "execution_count": 684,
   "id": "bd15adde",
   "metadata": {},
   "outputs": [
    {
     "data": {
      "text/html": [
       "<div>\n",
       "<style scoped>\n",
       "    .dataframe tbody tr th:only-of-type {\n",
       "        vertical-align: middle;\n",
       "    }\n",
       "\n",
       "    .dataframe tbody tr th {\n",
       "        vertical-align: top;\n",
       "    }\n",
       "\n",
       "    .dataframe thead th {\n",
       "        text-align: right;\n",
       "    }\n",
       "</style>\n",
       "<table border=\"1\" class=\"dataframe\">\n",
       "  <thead>\n",
       "    <tr style=\"text-align: right;\">\n",
       "      <th></th>\n",
       "      <th>rank</th>\n",
       "      <th>discipline</th>\n",
       "      <th>yrs.service</th>\n",
       "      <th>sex</th>\n",
       "      <th>salary</th>\n",
       "    </tr>\n",
       "  </thead>\n",
       "  <tbody>\n",
       "    <tr>\n",
       "      <th>0</th>\n",
       "      <td>Prof</td>\n",
       "      <td>B</td>\n",
       "      <td>18</td>\n",
       "      <td>Male</td>\n",
       "      <td>139750</td>\n",
       "    </tr>\n",
       "    <tr>\n",
       "      <th>1</th>\n",
       "      <td>Prof</td>\n",
       "      <td>B</td>\n",
       "      <td>16</td>\n",
       "      <td>Male</td>\n",
       "      <td>173200</td>\n",
       "    </tr>\n",
       "    <tr>\n",
       "      <th>2</th>\n",
       "      <td>AsstProf</td>\n",
       "      <td>B</td>\n",
       "      <td>3</td>\n",
       "      <td>Male</td>\n",
       "      <td>79750</td>\n",
       "    </tr>\n",
       "    <tr>\n",
       "      <th>3</th>\n",
       "      <td>Prof</td>\n",
       "      <td>B</td>\n",
       "      <td>39</td>\n",
       "      <td>Male</td>\n",
       "      <td>115000</td>\n",
       "    </tr>\n",
       "    <tr>\n",
       "      <th>4</th>\n",
       "      <td>Prof</td>\n",
       "      <td>B</td>\n",
       "      <td>41</td>\n",
       "      <td>Male</td>\n",
       "      <td>141500</td>\n",
       "    </tr>\n",
       "  </tbody>\n",
       "</table>\n",
       "</div>"
      ],
      "text/plain": [
       "       rank discipline  yrs.service   sex  salary\n",
       "0      Prof          B           18  Male  139750\n",
       "1      Prof          B           16  Male  173200\n",
       "2  AsstProf          B            3  Male   79750\n",
       "3      Prof          B           39  Male  115000\n",
       "4      Prof          B           41  Male  141500"
      ]
     },
     "execution_count": 684,
     "metadata": {},
     "output_type": "execute_result"
    }
   ],
   "source": [
    "df.drop(\"yrs.since.phd\",axis=1).head()"
   ]
  },
  {
   "cell_type": "code",
   "execution_count": 685,
   "id": "1b6ca59e",
   "metadata": {},
   "outputs": [
    {
     "data": {
      "text/plain": [
       "Prof         263\n",
       "AsstProf      67\n",
       "AssocProf     64\n",
       "Name: rank, dtype: int64"
      ]
     },
     "execution_count": 685,
     "metadata": {},
     "output_type": "execute_result"
    }
   ],
   "source": [
    "df[\"rank\"].value_counts()"
   ]
  },
  {
   "cell_type": "code",
   "execution_count": 686,
   "id": "fa29f278",
   "metadata": {},
   "outputs": [
    {
     "data": {
      "text/plain": [
       "B    215\n",
       "A    179\n",
       "Name: discipline, dtype: int64"
      ]
     },
     "execution_count": 686,
     "metadata": {},
     "output_type": "execute_result"
    }
   ],
   "source": [
    "df[\"discipline\"].value_counts()"
   ]
  },
  {
   "cell_type": "code",
   "execution_count": 687,
   "id": "22f475e0",
   "metadata": {},
   "outputs": [
    {
     "data": {
      "text/plain": [
       "Male      355\n",
       "Female     39\n",
       "Name: sex, dtype: int64"
      ]
     },
     "execution_count": 687,
     "metadata": {},
     "output_type": "execute_result"
    }
   ],
   "source": [
    "df[\"sex\"].value_counts()"
   ]
  },
  {
   "cell_type": "code",
   "execution_count": 688,
   "id": "ac0962fa",
   "metadata": {},
   "outputs": [
    {
     "data": {
      "text/html": [
       "<div>\n",
       "<style scoped>\n",
       "    .dataframe tbody tr th:only-of-type {\n",
       "        vertical-align: middle;\n",
       "    }\n",
       "\n",
       "    .dataframe tbody tr th {\n",
       "        vertical-align: top;\n",
       "    }\n",
       "\n",
       "    .dataframe thead th {\n",
       "        text-align: right;\n",
       "    }\n",
       "</style>\n",
       "<table border=\"1\" class=\"dataframe\">\n",
       "  <thead>\n",
       "    <tr style=\"text-align: right;\">\n",
       "      <th></th>\n",
       "      <th>rank</th>\n",
       "      <th>yrs.since.phd</th>\n",
       "      <th>yrs.service</th>\n",
       "      <th>salary</th>\n",
       "      <th>discipline_B</th>\n",
       "      <th>sex_Male</th>\n",
       "    </tr>\n",
       "  </thead>\n",
       "  <tbody>\n",
       "    <tr>\n",
       "      <th>0</th>\n",
       "      <td>Prof</td>\n",
       "      <td>19</td>\n",
       "      <td>18</td>\n",
       "      <td>139750</td>\n",
       "      <td>1</td>\n",
       "      <td>1</td>\n",
       "    </tr>\n",
       "    <tr>\n",
       "      <th>1</th>\n",
       "      <td>Prof</td>\n",
       "      <td>20</td>\n",
       "      <td>16</td>\n",
       "      <td>173200</td>\n",
       "      <td>1</td>\n",
       "      <td>1</td>\n",
       "    </tr>\n",
       "    <tr>\n",
       "      <th>2</th>\n",
       "      <td>AsstProf</td>\n",
       "      <td>4</td>\n",
       "      <td>3</td>\n",
       "      <td>79750</td>\n",
       "      <td>1</td>\n",
       "      <td>1</td>\n",
       "    </tr>\n",
       "    <tr>\n",
       "      <th>3</th>\n",
       "      <td>Prof</td>\n",
       "      <td>45</td>\n",
       "      <td>39</td>\n",
       "      <td>115000</td>\n",
       "      <td>1</td>\n",
       "      <td>1</td>\n",
       "    </tr>\n",
       "    <tr>\n",
       "      <th>4</th>\n",
       "      <td>Prof</td>\n",
       "      <td>40</td>\n",
       "      <td>41</td>\n",
       "      <td>141500</td>\n",
       "      <td>1</td>\n",
       "      <td>1</td>\n",
       "    </tr>\n",
       "  </tbody>\n",
       "</table>\n",
       "</div>"
      ],
      "text/plain": [
       "       rank  yrs.since.phd  yrs.service  salary  discipline_B  sex_Male\n",
       "0      Prof             19           18  139750             1         1\n",
       "1      Prof             20           16  173200             1         1\n",
       "2  AsstProf              4            3   79750             1         1\n",
       "3      Prof             45           39  115000             1         1\n",
       "4      Prof             40           41  141500             1         1"
      ]
     },
     "execution_count": 688,
     "metadata": {},
     "output_type": "execute_result"
    }
   ],
   "source": [
    "## Getting Dummies for Catogorical Features (Nominal Features)\n",
    "df=pd.get_dummies(columns=[\"discipline\",\"sex\"],data=df,drop_first=True)\n",
    "df.head()"
   ]
  },
  {
   "cell_type": "code",
   "execution_count": 689,
   "id": "d19f3441",
   "metadata": {},
   "outputs": [
    {
     "data": {
      "text/plain": [
       "<AxesSubplot:xlabel='rank', ylabel='salary'>"
      ]
     },
     "execution_count": 689,
     "metadata": {},
     "output_type": "execute_result"
    },
    {
     "data": {
      "image/png": "[encoded data removed]",
      "text/plain": [
       "<Figure size 432x288 with 1 Axes>"
      ]
     },
     "metadata": {
      "needs_background": "light"
     },
     "output_type": "display_data"
    }
   ],
   "source": [
    "sns.scatterplot(\"rank\",\"salary\",data=df)"
   ]
  },
  {
   "cell_type": "code",
   "execution_count": 690,
   "id": "d4c0c684",
   "metadata": {},
   "outputs": [
    {
     "name": "stdout",
     "output_type": "stream",
     "text": [
      "     rank  yrs.since.phd  yrs.service  salary  discipline_B  sex_Male\n",
      "0       3             19           18  139750             1         1\n",
      "1       3             20           16  173200             1         1\n",
      "2       1              4            3   79750             1         1\n",
      "3       3             45           39  115000             1         1\n",
      "4       3             40           41  141500             1         1\n",
      "..    ...            ...          ...     ...           ...       ...\n",
      "392     3             33           30  103106             0         1\n",
      "393     3             31           19  150564             0         1\n",
      "394     3             42           25  101738             0         1\n",
      "395     3             25           15   95329             0         1\n",
      "396     1              8            4   81035             0         1\n",
      "\n",
      "[394 rows x 6 columns]\n"
     ]
    }
   ],
   "source": [
    "## Now Ordinal Encoding for Catogorical Features (Ordinal Features)\n",
    "import category_encoders as ce\n",
    "import pandas as pd\n",
    "encoder= ce.OrdinalEncoder(cols=['rank'],return_df=True,\n",
    "                           mapping=[{'col':'rank',\n",
    "'mapping':{'None':0,'AsstProf':1,'AssocProf':2,'Prof':3}}])\n",
    "df['rank'] = encoder.fit_transform(df['rank'])\n",
    "print(df)"
   ]
  },
  {
   "cell_type": "code",
   "execution_count": 691,
   "id": "329aad55",
   "metadata": {},
   "outputs": [],
   "source": [
    "# seperating indepandent and dependent features\n",
    "X=df.drop(\"salary\",axis=1)\n",
    "y=df[\"salary\"]"
   ]
  },
  {
   "cell_type": "code",
   "execution_count": 692,
   "id": "adbbb956",
   "metadata": {},
   "outputs": [],
   "source": [
    "## Creating train test data\n",
    "from sklearn.model_selection import train_test_split\n",
    "X_train,X_test,y_train,y_test=train_test_split(X,y,test_size=0.3,random_state=42)"
   ]
  },
  {
   "cell_type": "code",
   "execution_count": 693,
   "id": "fd98087c",
   "metadata": {},
   "outputs": [],
   "source": [
    "# Standardize the dataset\n",
    "from sklearn.preprocessing import StandardScaler\n",
    "scaler=StandardScaler()"
   ]
  },
  {
   "cell_type": "code",
   "execution_count": 694,
   "id": "3db85e47",
   "metadata": {},
   "outputs": [
    {
     "data": {
      "text/plain": [
       "array([[ 0.6299507 ,  1.26807788,  1.31368735, -1.11165298,  0.34992711],\n",
       "       [ 0.6299507 ,  0.21527286,  0.27488348,  0.8995613 ,  0.34992711],\n",
       "       [-0.71296746, -0.75654716, -0.76392038, -1.11165298, -2.85773803],\n",
       "       ...,\n",
       "       [-2.05588563, -1.48541217, -1.32327631, -1.11165298,  0.34992711],\n",
       "       [ 0.6299507 ,  2.7258079 ,  2.5123072 ,  0.8995613 ,  0.34992711],\n",
       "       [ 0.6299507 , -0.18965215, -0.28447244,  0.8995613 , -2.85773803]])"
      ]
     },
     "execution_count": 694,
     "metadata": {},
     "output_type": "execute_result"
    }
   ],
   "source": [
    "X_train=scaler.fit_transform(X_train)\n",
    "X_train"
   ]
  },
  {
   "cell_type": "code",
   "execution_count": 695,
   "id": "71c1f63b",
   "metadata": {
    "scrolled": true
   },
   "outputs": [
    {
     "data": {
      "text/plain": [
       "array([[-2.05588563, -1.32344217, -1.24336832,  0.8995613 ,  0.34992711],\n",
       "       [ 0.6299507 ,  0.70118287,  0.75433142, -1.11165298,  0.34992711],\n",
       "       [ 0.6299507 ,  0.45822786,  0.43469946, -1.11165298,  0.34992711],\n",
       "       [ 0.6299507 ,  0.05330286,  0.27488348,  0.8995613 ,  0.34992711],\n",
       "       [ 0.6299507 ,  0.86315287,  0.99405539, -1.11165298,  0.34992711],\n",
       "       [ 0.6299507 , -0.27063715, -1.00364435,  0.8995613 ,  0.34992711],\n",
       "       [ 0.6299507 ,  1.43004788,  0.75433142,  0.8995613 ,  0.34992711],\n",
       "       [-2.05588563, -1.16147216, -1.16346033, -1.11165298,  0.34992711],\n",
       "       [-2.05588563, -1.48541217, -1.08355234,  0.8995613 ,  0.34992711],\n",
       "       [ 0.6299507 ,  1.34906288,  1.47350333, -1.11165298,  0.34992711],\n",
       "       [ 0.6299507 , -0.35162215,  0.03515952,  0.8995613 , -2.85773803],\n",
       "       [ 0.6299507 , -0.18965215,  0.19497549,  0.8995613 ,  0.34992711],\n",
       "       [ 0.6299507 ,  1.59201788,  1.79313529, -1.11165298,  0.34992711],\n",
       "       [ 0.6299507 , -0.51359215, -0.12465646,  0.8995613 ,  0.34992711],\n",
       "       [-2.05588563, -1.32344217, -1.16346033, -1.11165298,  0.34992711],\n",
       "       [ 0.6299507 ,  2.40186789,  2.43239921, -1.11165298,  0.34992711],\n",
       "       [ 0.6299507 ,  2.5638379 ,  2.5123072 , -1.11165298,  0.34992711],\n",
       "       [-2.05588563, -1.16147216, -1.08355234, -1.11165298,  0.34992711],\n",
       "       [ 0.6299507 ,  0.78216787,  0.83423941, -1.11165298,  0.34992711],\n",
       "       [ 0.6299507 ,  1.10610787,  1.63331931,  0.8995613 ,  0.34992711],\n",
       "       [ 0.6299507 , -0.83753216, -1.16346033,  0.8995613 ,  0.34992711],\n",
       "       [ 0.6299507 ,  0.70118287,  0.11506751, -1.11165298,  0.34992711],\n",
       "       [ 0.6299507 ,  0.37724286,  0.83423941,  0.8995613 ,  0.34992711],\n",
       "       [ 0.6299507 , -0.27063715,  0.03515952,  0.8995613 ,  0.34992711],\n",
       "       [-0.71296746, -0.59457716, -0.6041044 , -1.11165298,  0.34992711],\n",
       "       [ 0.6299507 , -0.83753216, -1.4031843 , -1.11165298, -2.85773803],\n",
       "       [-2.05588563, -1.56639717, -1.32327631,  0.8995613 ,  0.34992711],\n",
       "       [-2.05588563, -1.48541217, -1.24336832,  0.8995613 ,  0.34992711],\n",
       "       [ 0.6299507 , -0.51359215, -1.00364435,  0.8995613 ,  0.34992711],\n",
       "       [ 0.6299507 ,  0.29625786,  0.11506751,  0.8995613 ,  0.34992711],\n",
       "       [-0.71296746, -0.83753216,  0.03515952,  0.8995613 ,  0.34992711],\n",
       "       [ 0.6299507 ,  0.62019786,  0.67442343, -1.11165298,  0.34992711],\n",
       "       [ 0.6299507 ,  1.34906288, -0.68401239, -1.11165298,  0.34992711],\n",
       "       [ 0.6299507 ,  1.34906288,  1.39359534, -1.11165298,  0.34992711],\n",
       "       [-0.71296746, -0.99950216, -0.84382837,  0.8995613 ,  0.34992711],\n",
       "       [-0.71296746,  1.51103288,  1.23377936, -1.11165298,  0.34992711],\n",
       "       [-0.71296746, -0.99950216, -0.84382837, -1.11165298,  0.34992711],\n",
       "       [-0.71296746, -0.99950216, -0.68401239,  0.8995613 ,  0.34992711],\n",
       "       [ 0.6299507 ,  0.45822786,  0.43469946,  0.8995613 ,  0.34992711],\n",
       "       [ 0.6299507 , -0.10866715, -0.76392038, -1.11165298,  0.34992711],\n",
       "       [ 0.6299507 ,  1.02512287,  1.31368735,  0.8995613 ,  0.34992711],\n",
       "       [-2.05588563, -1.48541217, -1.08355234,  0.8995613 ,  0.34992711],\n",
       "       [ 0.6299507 ,  0.37724286,  0.11506751, -1.11165298,  0.34992711],\n",
       "       [ 0.6299507 , -0.27063715, -0.52419641, -1.11165298,  0.34992711],\n",
       "       [-0.71296746, -1.32344217, -0.92373636,  0.8995613 ,  0.34992711],\n",
       "       [ 0.6299507 , -0.10866715,  0.19497549,  0.8995613 ,  0.34992711],\n",
       "       [ 0.6299507 ,  0.05330286,  0.11506751,  0.8995613 , -2.85773803],\n",
       "       [ 0.6299507 ,  0.13428786, -0.20456445,  0.8995613 , -2.85773803],\n",
       "       [ 0.6299507 ,  1.43004788,  1.07396338, -1.11165298,  0.34992711],\n",
       "       [-2.05588563, -1.48541217, -1.08355234,  0.8995613 ,  0.34992711],\n",
       "       [-0.71296746, -1.08048716, -0.68401239,  0.8995613 ,  0.34992711],\n",
       "       [-0.71296746, -1.08048716, -0.76392038,  0.8995613 ,  0.34992711],\n",
       "       [ 0.6299507 , -0.18965215, -1.08355234,  0.8995613 ,  0.34992711],\n",
       "       [-0.71296746, -0.91851716, -0.76392038, -1.11165298,  0.34992711],\n",
       "       [ 0.6299507 ,  1.26807788,  1.47350333, -1.11165298,  0.34992711],\n",
       "       [-2.05588563, -1.56639717, -1.32327631, -1.11165298, -2.85773803],\n",
       "       [-2.05588563, -1.72836717, -1.4031843 ,  0.8995613 ,  0.34992711],\n",
       "       [-0.71296746, -1.16147216, -0.92373636,  0.8995613 ,  0.34992711],\n",
       "       [ 0.6299507 ,  0.94413787,  0.99405539, -1.11165298,  0.34992711],\n",
       "       [-2.05588563, -1.24245717, -1.24336832,  0.8995613 ,  0.34992711],\n",
       "       [-2.05588563, -1.48541217, -1.4031843 ,  0.8995613 ,  0.34992711],\n",
       "       [-0.71296746, -0.27063715,  0.11506751,  0.8995613 ,  0.34992711],\n",
       "       [ 0.6299507 , -0.02768215,  0.19497549,  0.8995613 ,  0.34992711],\n",
       "       [-0.71296746, -0.75654716, -0.68401239,  0.8995613 ,  0.34992711],\n",
       "       [ 0.6299507 ,  0.62019786,  1.07396338,  0.8995613 ,  0.34992711],\n",
       "       [-0.71296746, -1.16147216, -0.76392038,  0.8995613 ,  0.34992711],\n",
       "       [-2.05588563, -1.48541217, -1.16346033,  0.8995613 ,  0.34992711],\n",
       "       [-0.71296746, -0.43260715, -0.92373636,  0.8995613 ,  0.34992711],\n",
       "       [ 0.6299507 ,  1.34906288,  1.7132273 , -1.11165298,  0.34992711],\n",
       "       [-0.71296746, -1.32344217, -0.92373636,  0.8995613 ,  0.34992711],\n",
       "       [ 0.6299507 ,  1.43004788,  0.83423941,  0.8995613 ,  0.34992711],\n",
       "       [ 0.6299507 , -0.59457716, -0.28447244,  0.8995613 ,  0.34992711],\n",
       "       [-2.05588563, -1.40442717, -1.16346033, -1.11165298,  0.34992711],\n",
       "       [-0.71296746, -0.27063715, -0.12465646, -1.11165298,  0.34992711],\n",
       "       [ 0.6299507 , -0.59457716, -0.6041044 , -1.11165298,  0.34992711],\n",
       "       [-2.05588563, -1.32344217, -1.24336832,  0.8995613 ,  0.34992711],\n",
       "       [ 0.6299507 , -0.10866715, -0.68401239, -1.11165298,  0.34992711],\n",
       "       [ 0.6299507 ,  1.83497288,  1.7132273 ,  0.8995613 ,  0.34992711],\n",
       "       [ 0.6299507 ,  1.18709287,  0.43469946, -1.11165298,  0.34992711],\n",
       "       [ 0.6299507 , -0.18965215, -0.68401239,  0.8995613 ,  0.34992711],\n",
       "       [ 0.6299507 ,  0.29625786,  0.35479147,  0.8995613 ,  0.34992711],\n",
       "       [ 0.6299507 , -0.18965215,  0.19497549,  0.8995613 ,  0.34992711],\n",
       "       [-2.05588563, -1.48541217, -1.16346033,  0.8995613 ,  0.34992711],\n",
       "       [ 0.6299507 ,  0.78216787,  1.39359534,  0.8995613 ,  0.34992711],\n",
       "       [ 0.6299507 ,  0.53921286,  0.75433142, -1.11165298, -2.85773803],\n",
       "       [ 0.6299507 ,  0.53921286,  0.75433142, -1.11165298,  0.34992711],\n",
       "       [ 0.6299507 , -0.59457716, -0.68401239, -1.11165298,  0.34992711],\n",
       "       [ 0.6299507 ,  1.02512287,  1.39359534, -1.11165298,  0.34992711],\n",
       "       [ 0.6299507 ,  0.05330286, -0.6041044 ,  0.8995613 ,  0.34992711],\n",
       "       [-0.71296746, -0.99950216, -0.76392038, -1.11165298, -2.85773803],\n",
       "       [ 0.6299507 ,  1.83497288,  2.03285926, -1.11165298,  0.34992711],\n",
       "       [-2.05588563, -0.91851716, -1.08355234, -1.11165298,  0.34992711],\n",
       "       [ 0.6299507 ,  1.91595789,  1.79313529, -1.11165298,  0.34992711],\n",
       "       [-0.71296746, -0.75654716, -0.76392038, -1.11165298,  0.34992711],\n",
       "       [ 0.6299507 ,  0.21527286, -0.20456445, -1.11165298,  0.34992711],\n",
       "       [-2.05588563, -1.48541217, -1.16346033,  0.8995613 ,  0.34992711],\n",
       "       [ 0.6299507 , -0.43260715, -1.16346033,  0.8995613 ,  0.34992711],\n",
       "       [ 0.6299507 ,  0.70118287,  0.83423941, -1.11165298,  0.34992711],\n",
       "       [ 0.6299507 ,  1.99694289,  2.11276725, -1.11165298,  0.34992711],\n",
       "       [ 0.6299507 , -0.27063715,  0.19497549,  0.8995613 ,  0.34992711],\n",
       "       [ 0.6299507 ,  1.02512287,  1.07396338,  0.8995613 ,  0.34992711],\n",
       "       [ 0.6299507 , -0.59457716, -0.12465646,  0.8995613 ,  0.34992711],\n",
       "       [ 0.6299507 ,  1.83497288,  2.19267524,  0.8995613 ,  0.34992711],\n",
       "       [ 0.6299507 ,  1.34906288,  1.47350333, -1.11165298, -2.85773803],\n",
       "       [-2.05588563, -1.24245717, -1.08355234, -1.11165298,  0.34992711],\n",
       "       [ 0.6299507 ,  1.26807788,  1.63331931,  0.8995613 ,  0.34992711],\n",
       "       [-2.05588563, -1.48541217, -1.32327631, -1.11165298,  0.34992711],\n",
       "       [-2.05588563, -1.40442717, -1.16346033, -1.11165298, -2.85773803],\n",
       "       [ 0.6299507 ,  0.37724286, -0.28447244,  0.8995613 ,  0.34992711],\n",
       "       [-2.05588563, -1.16147216, -1.00364435, -1.11165298,  0.34992711],\n",
       "       [ 0.6299507 ,  1.75398788,  2.11276725, -1.11165298,  0.34992711],\n",
       "       [ 0.6299507 , -0.27063715, -0.84382837, -1.11165298,  0.34992711],\n",
       "       [-2.05588563, -1.56639717, -1.24336832,  0.8995613 ,  0.34992711],\n",
       "       [ 0.6299507 ,  1.67300288,  0.83423941,  0.8995613 ,  0.34992711],\n",
       "       [ 0.6299507 ,  2.32088289,  2.67212317, -1.11165298,  0.34992711],\n",
       "       [ 0.6299507 ,  2.15891289,  1.79313529, -1.11165298,  0.34992711],\n",
       "       [ 0.6299507 , -0.18965215, -0.76392038, -1.11165298,  0.34992711],\n",
       "       [-2.05588563, -1.48541217, -1.4031843 ,  0.8995613 ,  0.34992711],\n",
       "       [ 0.6299507 , -0.18965215, -0.12465646, -1.11165298,  0.34992711]])"
      ]
     },
     "execution_count": 695,
     "metadata": {},
     "output_type": "execute_result"
    }
   ],
   "source": [
    "X_test=scaler.transform(X_test)\n",
    "X_test"
   ]
  },
  {
   "cell_type": "markdown",
   "id": "85b66111",
   "metadata": {},
   "source": [
    "## Model fitting"
   ]
  },
  {
   "cell_type": "code",
   "execution_count": 696,
   "id": "3249e3bb",
   "metadata": {},
   "outputs": [
    {
     "data": {
      "text/plain": [
       "LinearRegression()"
      ]
     },
     "execution_count": 696,
     "metadata": {},
     "output_type": "execute_result"
    }
   ],
   "source": [
    "from sklearn.linear_model import LinearRegression\n",
    "lr=LinearRegression()\n",
    "lr.fit(X_train,y_train)"
   ]
  },
  {
   "cell_type": "code",
   "execution_count": 697,
   "id": "9646a0b1",
   "metadata": {},
   "outputs": [],
   "source": [
    "# Prediction on test data\n",
    "y_pred=lr.predict(X_test)"
   ]
  },
  {
   "cell_type": "code",
   "execution_count": 698,
   "id": "7fabc689",
   "metadata": {},
   "outputs": [
    {
     "data": {
      "text/plain": [
       "<matplotlib.collections.PathCollection at 0x1c0a931cdc0>"
      ]
     },
     "execution_count": 698,
     "metadata": {},
     "output_type": "execute_result"
    },
    {
     "data": {
      "image/png": "[encoded data removed]",
      "text/plain": [
       "<Figure size 432x288 with 1 Axes>"
      ]
     },
     "metadata": {
      "needs_background": "light"
     },
     "output_type": "display_data"
    }
   ],
   "source": [
    "plt.scatter(y_test,y_pred)"
   ]
  },
  {
   "cell_type": "code",
   "execution_count": 699,
   "id": "f01363c9",
   "metadata": {},
   "outputs": [
    {
     "data": {
      "text/plain": [
       "79       323.505634\n",
       "277    44687.877646\n",
       "248    10324.412514\n",
       "56    -12339.044673\n",
       "392   -15296.921426\n",
       "           ...     \n",
       "282   -62024.148204\n",
       "356   -34429.729308\n",
       "251   -18114.408764\n",
       "154     8374.977228\n",
       "110    -4480.028589\n",
       "Name: salary, Length: 119, dtype: float64"
      ]
     },
     "execution_count": 699,
     "metadata": {},
     "output_type": "execute_result"
    }
   ],
   "source": [
    "## prediction \n",
    "residuals=y_test-y_pred\n",
    "residuals"
   ]
  },
  {
   "cell_type": "code",
   "execution_count": 700,
   "id": "8a4ddad7",
   "metadata": {},
   "outputs": [
    {
     "data": {
      "text/plain": [
       "<seaborn.axisgrid.FacetGrid at 0x1c0a801c670>"
      ]
     },
     "execution_count": 700,
     "metadata": {},
     "output_type": "execute_result"
    },
    {
     "data": {
      "image/png": "[encoded data removed]",
      "text/plain": [
       "<Figure size 360x360 with 1 Axes>"
      ]
     },
     "metadata": {
      "needs_background": "light"
     },
     "output_type": "display_data"
    }
   ],
   "source": [
    "sns.displot(residuals,kind=\"kde\")"
   ]
  },
  {
   "cell_type": "code",
   "execution_count": 701,
   "id": "bc4977c6",
   "metadata": {},
   "outputs": [
    {
     "data": {
      "text/plain": [
       "433048216.20003027"
      ]
     },
     "execution_count": 701,
     "metadata": {},
     "output_type": "execute_result"
    }
   ],
   "source": [
    "from sklearn.metrics import mean_squared_error,mean_absolute_error,r2_score\n",
    "mean_squared_error(y_test,y_pred)"
   ]
  },
  {
   "cell_type": "markdown",
   "id": "e62249ca",
   "metadata": {},
   "source": [
    "## Results:"
   ]
  },
  {
   "cell_type": "code",
   "execution_count": 715,
   "id": "3c8946fa",
   "metadata": {},
   "outputs": [
    {
     "name": "stdout",
     "output_type": "stream",
     "text": [
      "Mean Absolute Error :  15856.652161897213\n",
      "Mean Squared Error is :  433048216.20003027\n",
      "Root Mean Squared Error is :  20809.81057578445\n",
      "R2 Score is :  0.49331400219406796\n",
      "49.33 %\n"
     ]
    }
   ],
   "source": [
    "print(\"Mean Absolute Error : \",mean_absolute_error(y_test,y_pred))\n",
    "print(\"Mean Squared Error is : \",mean_squared_error(y_test,y_pred))\n",
    "print(\"Root Mean Squared Error is : \", np.sqrt(mean_squared_error(y_test,y_pred)))\n",
    "print(\"R2 Score is : \",r2_score(y_test,y_pred))\n",
    "print(round(r2_score(y_test,y_pred)*100,2),\"%\")\n",
    "\n"
   ]
  }
 ],
 "metadata": {
  "kernelspec": {
   "display_name": "Python 3 (ipykernel)",
   "language": "python",
   "name": "python3"
  },
  "language_info": {
   "codemirror_mode": {
    "name": "ipython",
    "version": 3
   },
   "file_extension": ".py",
   "mimetype": "text/x-python",
   "name": "python",
   "nbconvert_exporter": "python",
   "pygments_lexer": "ipython3",
   "version": "3.9.12"
  }
 },
 "nbformat": 4,
 "nbformat_minor": 5
}
